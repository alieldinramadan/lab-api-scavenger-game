{
 "cells": [
  {
   "cell_type": "markdown",
   "metadata": {},
   "source": [
    "# API Scavenger Game\n",
    "\n",
    "## Challenge 1: Fork Languages\n",
    "\n",
    "You will find out how many programming languages are used among all the forks created from the main lab repo of your bootcamp."
   ]
  },
  {
   "cell_type": "code",
   "execution_count": 9,
   "metadata": {},
   "outputs": [],
   "source": [
    "import json\n",
    "import requests\n",
    "import pandas as pd\n",
    "import numpy as np"
   ]
  },
  {
   "cell_type": "markdown",
   "metadata": {},
   "source": [
    "Assuming the main lab repo is ironhack-datalabs/madrid-oct-2018, you will:\n",
    "\n",
    "#### 1. Obtain the full list of forks created from the main lab repo via Github API."
   ]
  },
  {
   "cell_type": "markdown",
   "metadata": {},
   "source": [
    "To list forks, we can use the GET method. As explained in the GitHub API documentation, we need to make the request to: GET /repos/:owner/:repo/forks."
   ]
  },
  {
   "cell_type": "code",
   "execution_count": 2,
   "metadata": {},
   "outputs": [],
   "source": [
    "url = 'https://api.github.com/repos/ironhack-datalabs/madrid-oct-2018/forks?'\n",
    "params = {'client_id': 'alieldinramadan', 'client_secret': 'd1367548e2b130e9bb99c0131b95a578b30c67fa'}\n",
    "ihack_response = requests.get(url, params=params)\n",
    "ihack_response_json = ihack_response.json()"
   ]
  },
  {
   "cell_type": "code",
   "execution_count": 3,
   "metadata": {
    "scrolled": true
   },
   "outputs": [
    {
     "name": "stdout",
     "output_type": "stream",
     "text": [
      "{\n",
      "        \"id\": 204100911,\n",
      "        \"node_id\": \"MDEwOlJlcG9zaXRvcnkyMDQxMDA5MTE=\",\n",
      "        \"name\": \"mad-oct-2018\",\n",
      "        \"full_name\": \"rsennes/mad-oct-2018\",\n",
      "        \"private\": false,\n",
      "        \"owner\": {\n",
      "                \"login\": \"rsennes\",\n",
      "                \"id\": 34886384,\n",
      "                \"node_id\": \"MDQ6VXNlcjM0ODg2Mzg0\",\n",
      "                \"avatar_url\": \"https://avatars1.githubusercontent.com/u/34886384?v=4\",\n",
      "                \"gravatar_id\": \"\",\n",
      "                \"url\": \"https://api.github.com/users/rsennes\",\n",
      "                \"html_url\": \"https://github.com/rsennes\",\n",
      "                \"followers_url\": \"https://api.github.com/users/rsennes/followers\",\n",
      "                \"following_url\": \"https://api.github.com/users/rsennes/following{/other_user}\",\n",
      "                \"gists_url\": \"https://api.github.com/users/rsennes/gists{/gist_id}\",\n",
      "                \"starred_url\": \"https://api.github.com/users/rsennes/starred{/owner}{/repo}\",\n",
      "                \"subscriptions_url\": \"https://api.github.com/users/rsennes/subscriptions\",\n",
      "                \"organizations_url\": \"https://api.github.com/users/rsennes/orgs\",\n",
      "                \"repos_url\": \"https://api.github.com/users/rsennes/repos\",\n",
      "                \"events_url\": \"https://api.github.com/users/rsennes/events{/privacy}\",\n",
      "                \"received_events_url\": \"https://api.github.com/users/rsennes/received_events\",\n",
      "                \"type\": \"User\",\n",
      "                \"site_admin\": false\n",
      "        },\n",
      "        \"html_url\": \"https://github.com/rsennes/mad-oct-2018\",\n",
      "        \"description\": \"Student labs for Ironhack data analytics bootcamp\",\n",
      "        \"fork\": true,\n",
      "        \"url\": \"https://api.github.com/repos/rsennes/mad-oct-2018\",\n",
      "        \"forks_url\": \"https://api.github.com/repos/rsennes/mad-oct-2018/forks\",\n",
      "        \"keys_url\": \"https://api.github.com/repos/rsennes/mad-oct-2018/keys{/key_id}\",\n",
      "        \"collaborators_url\": \"https://api.github.com/repos/rsennes/mad-oct-2018/collaborators{/collaborator}\",\n",
      "        \"teams_url\": \"https://api.github.com/repos/rsennes/mad-oct-2018/teams\",\n",
      "        \"hooks_url\": \"https://api.github.com/repos/rsennes/mad-oct-2018/hooks\",\n",
      "        \"issue_events_url\": \"https://api.github.com/repos/rsennes/mad-oct-2018/issues/events{/number}\",\n",
      "        \"events_url\": \"https://api.github.com/repos/rsennes/mad-oct-2018/events\",\n",
      "        \"assignees_url\": \"https://api.github.com/repos/rsennes/mad-oct-2018/assignees{/user}\",\n",
      "        \"branches_url\": \"https://api.github.com/repos/rsennes/mad-oct-2018/branches{/branch}\",\n",
      "        \"tags_url\": \"https://api.github.com/repos/rsennes/mad-oct-2018/tags\",\n",
      "        \"blobs_url\": \"https://api.github.com/repos/rsennes/mad-oct-2018/git/blobs{/sha}\",\n",
      "        \"git_tags_url\": \"https://api.github.com/repos/rsennes/mad-oct-2018/git/tags{/sha}\",\n",
      "        \"git_refs_url\": \"https://api.github.com/repos/rsennes/mad-oct-2018/git/refs{/sha}\",\n",
      "        \"trees_url\": \"https://api.github.com/repos/rsennes/mad-oct-2018/git/trees{/sha}\",\n",
      "        \"statuses_url\": \"https://api.github.com/repos/rsennes/mad-oct-2018/statuses/{sha}\",\n",
      "        \"languages_url\": \"https://api.github.com/repos/rsennes/mad-oct-2018/languages\",\n",
      "        \"stargazers_url\": \"https://api.github.com/repos/rsennes/mad-oct-2018/stargazers\",\n",
      "        \"contributors_url\": \"https://api.github.com/repos/rsennes/mad-oct-2018/contributors\",\n",
      "        \"subscribers_url\": \"https://api.github.com/repos/rsennes/mad-oct-2018/subscribers\",\n",
      "        \"subscription_url\": \"https://api.github.com/repos/rsennes/mad-oct-2018/subscription\",\n",
      "        \"commits_url\": \"https://api.github.com/repos/rsennes/mad-oct-2018/commits{/sha}\",\n",
      "        \"git_commits_url\": \"https://api.github.com/repos/rsennes/mad-oct-2018/git/commits{/sha}\",\n",
      "        \"comments_url\": \"https://api.github.com/repos/rsennes/mad-oct-2018/comments{/number}\",\n",
      "        \"issue_comment_url\": \"https://api.github.com/repos/rsennes/mad-oct-2018/issues/comments{/number}\",\n",
      "        \"contents_url\": \"https://api.github.com/repos/rsennes/mad-oct-2018/contents/{+path}\",\n",
      "        \"compare_url\": \"https://api.github.com/repos/rsennes/mad-oct-2018/compare/{base}...{head}\",\n",
      "        \"merges_url\": \"https://api.github.com/repos/rsennes/mad-oct-2018/merges\",\n",
      "        \"archive_url\": \"https://api.github.com/repos/rsennes/mad-oct-2018/{archive_format}{/ref}\",\n",
      "        \"downloads_url\": \"https://api.github.com/repos/rsennes/mad-oct-2018/downloads\",\n",
      "        \"issues_url\": \"https://api.github.com/repos/rsennes/mad-oct-2018/issues{/number}\",\n",
      "        \"pulls_url\": \"https://api.github.com/repos/rsennes/mad-oct-2018/pulls{/number}\",\n",
      "        \"milestones_url\": \"https://api.github.com/repos/rsennes/mad-oct-2018/milestones{/number}\",\n",
      "        \"notifications_url\": \"https://api.github.com/repos/rsennes/mad-oct-2018/notifications{?since,all,participating}\",\n",
      "        \"labels_url\": \"https://api.github.com/repos/rsennes/mad-oct-2018/labels{/name}\",\n",
      "        \"releases_url\": \"https://api.github.com/repos/rsennes/mad-oct-2018/releases{/id}\",\n",
      "        \"deployments_url\": \"https://api.github.com/repos/rsennes/mad-oct-2018/deployments\",\n",
      "        \"created_at\": \"2019-08-24T03:04:02Z\",\n",
      "        \"updated_at\": \"2019-08-24T03:04:04Z\",\n",
      "        \"pushed_at\": \"2019-08-19T11:16:55Z\",\n",
      "        \"git_url\": \"git://github.com/rsennes/mad-oct-2018.git\",\n",
      "        \"ssh_url\": \"git@github.com:rsennes/mad-oct-2018.git\",\n",
      "        \"clone_url\": \"https://github.com/rsennes/mad-oct-2018.git\",\n",
      "        \"svn_url\": \"https://github.com/rsennes/mad-oct-2018\",\n",
      "        \"homepage\": \"\",\n",
      "        \"size\": 116995,\n",
      "        \"stargazers_count\": 0,\n",
      "        \"watchers_count\": 0,\n",
      "        \"language\": \"Jupyter Notebook\",\n",
      "        \"has_issues\": false,\n",
      "        \"has_projects\": true,\n",
      "        \"has_downloads\": true,\n",
      "        \"has_wiki\": true,\n",
      "        \"has_pages\": false,\n",
      "        \"forks_count\": 0,\n",
      "        \"mirror_url\": null,\n",
      "        \"archived\": false,\n",
      "        \"disabled\": false,\n",
      "        \"open_issues_count\": 0,\n",
      "        \"license\": {\n",
      "                \"key\": \"unlicense\",\n",
      "                \"name\": \"The Unlicense\",\n",
      "                \"spdx_id\": \"Unlicense\",\n",
      "                \"url\": \"https://api.github.com/licenses/unlicense\",\n",
      "                \"node_id\": \"MDc6TGljZW5zZTE1\"\n",
      "        },\n",
      "        \"forks\": 0,\n",
      "        \"open_issues\": 0,\n",
      "        \"watchers\": 0,\n",
      "        \"default_branch\": \"master\"\n",
      "}\n"
     ]
    }
   ],
   "source": [
    "print(json.dumps(ihack_response_json[1], indent=8))"
   ]
  },
  {
   "cell_type": "markdown",
   "metadata": {},
   "source": [
    "#### 2. Loop the JSON response to find out the language attribute of each fork. Use an array to store the language attributes of each fork.\n",
    "Hint: Each language should appear only once in your array.\n",
    "Print the language array. It should be something like: [\"Python\", \"Jupyter Notebook\", \"HTML\"]"
   ]
  },
  {
   "cell_type": "code",
   "execution_count": 65,
   "metadata": {},
   "outputs": [],
   "source": [
    "Languages = np.array([])"
   ]
  },
  {
   "cell_type": "code",
   "execution_count": 66,
   "metadata": {},
   "outputs": [],
   "source": [
    "for dict1 in ihack_response_json:\n",
    "    for key,value in dict1.items():\n",
    "        if key == 'language':\n",
    "            Languages = np.append(Languages, np.array([value]))"
   ]
  },
  {
   "cell_type": "code",
   "execution_count": 67,
   "metadata": {},
   "outputs": [
    {
     "data": {
      "text/plain": [
       "array([None, 'Jupyter Notebook', 'HTML', 'Python'], dtype=object)"
      ]
     },
     "execution_count": 67,
     "metadata": {},
     "output_type": "execute_result"
    }
   ],
   "source": [
    "Languages_df = pd.DataFrame(Languages, columns=['Languages'])\n",
    "Languages_df.Languages.unique()"
   ]
  },
  {
   "cell_type": "markdown",
   "metadata": {},
   "source": [
    "## Challenge 2: Count Commits\n",
    "Count how many commits were made in the month of october of 2018.\n",
    "#### 1. Obtain all the commits made in October 2018 via API, which is a JSON array that contains multiple commit objects."
   ]
  },
  {
   "cell_type": "code",
   "execution_count": 58,
   "metadata": {},
   "outputs": [],
   "source": [
    "url = 'https://api.github.com/repos/ironhack-datalabs/madrid-oct-2018/commits?'\n",
    "params = {'client_id': 'alieldinramadan', 'client_secret': 'd1367548e2b130e9bb99c0131b95a578b30c67fa'}\n",
    "ihack_response2 = requests.get(url, params=params)\n",
    "ihack_response_json2 = ihack_response2.json()"
   ]
  },
  {
   "cell_type": "code",
   "execution_count": 63,
   "metadata": {
    "scrolled": true
   },
   "outputs": [
    {
     "name": "stdout",
     "output_type": "stream",
     "text": [
      "{\n",
      "        \"sha\": \"1638e5506e6947b77bfe78761d345476ae80d017\",\n",
      "        \"node_id\": \"MDY6Q29tbWl0MTUzNzIwODA0OjE2MzhlNTUwNmU2OTQ3Yjc3YmZlNzg3NjFkMzQ1NDc2YWU4MGQwMTc=\",\n",
      "        \"commit\": {\n",
      "                \"author\": {\n",
      "                        \"name\": \"Marc Pomar\",\n",
      "                        \"email\": \"marc@faable.com\",\n",
      "                        \"date\": \"2019-08-19T11:11:36Z\"\n",
      "                },\n",
      "                \"committer\": {\n",
      "                        \"name\": \"Marc Pomar\",\n",
      "                        \"email\": \"marc@faable.com\",\n",
      "                        \"date\": \"2019-08-19T11:11:36Z\"\n",
      "                },\n",
      "                \"message\": \"Cambiar los autores\",\n",
      "                \"tree\": {\n",
      "                        \"sha\": \"51812285dc70ac37103735ee7ed672befc582b5f\",\n",
      "                        \"url\": \"https://api.github.com/repos/ironhack-datalabs/mad-oct-2018/git/trees/51812285dc70ac37103735ee7ed672befc582b5f\"\n",
      "                },\n",
      "                \"url\": \"https://api.github.com/repos/ironhack-datalabs/mad-oct-2018/git/commits/1638e5506e6947b77bfe78761d345476ae80d017\",\n",
      "                \"comment_count\": 0,\n",
      "                \"verification\": {\n",
      "                        \"verified\": false,\n",
      "                        \"reason\": \"unsigned\",\n",
      "                        \"signature\": null,\n",
      "                        \"payload\": null\n",
      "                }\n",
      "        },\n",
      "        \"url\": \"https://api.github.com/repos/ironhack-datalabs/mad-oct-2018/commits/1638e5506e6947b77bfe78761d345476ae80d017\",\n",
      "        \"html_url\": \"https://github.com/ironhack-datalabs/mad-oct-2018/commit/1638e5506e6947b77bfe78761d345476ae80d017\",\n",
      "        \"comments_url\": \"https://api.github.com/repos/ironhack-datalabs/mad-oct-2018/commits/1638e5506e6947b77bfe78761d345476ae80d017/comments\",\n",
      "        \"author\": {\n",
      "                \"login\": \"boyander\",\n",
      "                \"id\": 568638,\n",
      "                \"node_id\": \"MDQ6VXNlcjU2ODYzOA==\",\n",
      "                \"avatar_url\": \"https://avatars1.githubusercontent.com/u/568638?v=4\",\n",
      "                \"gravatar_id\": \"\",\n",
      "                \"url\": \"https://api.github.com/users/boyander\",\n",
      "                \"html_url\": \"https://github.com/boyander\",\n",
      "                \"followers_url\": \"https://api.github.com/users/boyander/followers\",\n",
      "                \"following_url\": \"https://api.github.com/users/boyander/following{/other_user}\",\n",
      "                \"gists_url\": \"https://api.github.com/users/boyander/gists{/gist_id}\",\n",
      "                \"starred_url\": \"https://api.github.com/users/boyander/starred{/owner}{/repo}\",\n",
      "                \"subscriptions_url\": \"https://api.github.com/users/boyander/subscriptions\",\n",
      "                \"organizations_url\": \"https://api.github.com/users/boyander/orgs\",\n",
      "                \"repos_url\": \"https://api.github.com/users/boyander/repos\",\n",
      "                \"events_url\": \"https://api.github.com/users/boyander/events{/privacy}\",\n",
      "                \"received_events_url\": \"https://api.github.com/users/boyander/received_events\",\n",
      "                \"type\": \"User\",\n",
      "                \"site_admin\": false\n",
      "        },\n",
      "        \"committer\": {\n",
      "                \"login\": \"boyander\",\n",
      "                \"id\": 568638,\n",
      "                \"node_id\": \"MDQ6VXNlcjU2ODYzOA==\",\n",
      "                \"avatar_url\": \"https://avatars1.githubusercontent.com/u/568638?v=4\",\n",
      "                \"gravatar_id\": \"\",\n",
      "                \"url\": \"https://api.github.com/users/boyander\",\n",
      "                \"html_url\": \"https://github.com/boyander\",\n",
      "                \"followers_url\": \"https://api.github.com/users/boyander/followers\",\n",
      "                \"following_url\": \"https://api.github.com/users/boyander/following{/other_user}\",\n",
      "                \"gists_url\": \"https://api.github.com/users/boyander/gists{/gist_id}\",\n",
      "                \"starred_url\": \"https://api.github.com/users/boyander/starred{/owner}{/repo}\",\n",
      "                \"subscriptions_url\": \"https://api.github.com/users/boyander/subscriptions\",\n",
      "                \"organizations_url\": \"https://api.github.com/users/boyander/orgs\",\n",
      "                \"repos_url\": \"https://api.github.com/users/boyander/repos\",\n",
      "                \"events_url\": \"https://api.github.com/users/boyander/events{/privacy}\",\n",
      "                \"received_events_url\": \"https://api.github.com/users/boyander/received_events\",\n",
      "                \"type\": \"User\",\n",
      "                \"site_admin\": false\n",
      "        },\n",
      "        \"parents\": [\n",
      "                {\n",
      "                        \"sha\": \"f332b5e6fcea965dc80f62220d7ee1457b04b90d\",\n",
      "                        \"url\": \"https://api.github.com/repos/ironhack-datalabs/mad-oct-2018/commits/f332b5e6fcea965dc80f62220d7ee1457b04b90d\",\n",
      "                        \"html_url\": \"https://github.com/ironhack-datalabs/mad-oct-2018/commit/f332b5e6fcea965dc80f62220d7ee1457b04b90d\"\n",
      "                }\n",
      "        ]\n",
      "}\n"
     ]
    }
   ],
   "source": [
    "print(json.dumps(ihack_response_json2[0], indent=8))"
   ]
  },
  {
   "cell_type": "code",
   "execution_count": 140,
   "metadata": {},
   "outputs": [],
   "source": [
    "commits = []\n",
    "author = []\n",
    "committers = np.array([])\n",
    "dates =  np.array([])"
   ]
  },
  {
   "cell_type": "code",
   "execution_count": 141,
   "metadata": {},
   "outputs": [],
   "source": [
    "#Creating for loops to get inside the nested dictionaries and extract data.\n",
    "\n",
    "for dict2 in ihack_response_json2:\n",
    "    for key, value in dict2.items():\n",
    "            if key == \"commit\":\n",
    "                commits.append(value)\n",
    "\n",
    "for dict3 in commits:\n",
    "    for key1, value1 in dict3.items():\n",
    "        if key1 == 'author':\n",
    "            author.append(value1)\n",
    "\n",
    "for dict4 in author:\n",
    "    for key2, value2 in dict4.items():\n",
    "        if key2 == 'name':\n",
    "            committers = np.append(committers, np.array([value2]))\n",
    "        elif key2 == 'date':\n",
    "            dates = np.append(dates, np.array([value2]))"
   ]
  },
  {
   "cell_type": "code",
   "execution_count": 142,
   "metadata": {},
   "outputs": [
    {
     "data": {
      "text/html": [
       "<div>\n",
       "<style scoped>\n",
       "    .dataframe tbody tr th:only-of-type {\n",
       "        vertical-align: middle;\n",
       "    }\n",
       "\n",
       "    .dataframe tbody tr th {\n",
       "        vertical-align: top;\n",
       "    }\n",
       "\n",
       "    .dataframe thead th {\n",
       "        text-align: right;\n",
       "    }\n",
       "</style>\n",
       "<table border=\"1\" class=\"dataframe\">\n",
       "  <thead>\n",
       "    <tr style=\"text-align: right;\">\n",
       "      <th></th>\n",
       "      <th>Committer's name</th>\n",
       "      <th>Date</th>\n",
       "    </tr>\n",
       "  </thead>\n",
       "  <tbody>\n",
       "    <tr>\n",
       "      <th>0</th>\n",
       "      <td>Marc Pomar</td>\n",
       "      <td>2019-08-19T11:11:36Z</td>\n",
       "    </tr>\n",
       "    <tr>\n",
       "      <th>1</th>\n",
       "      <td>ta-data-bcn</td>\n",
       "      <td>2019-03-07T15:49:16Z</td>\n",
       "    </tr>\n",
       "    <tr>\n",
       "      <th>2</th>\n",
       "      <td>ta-data-bcn</td>\n",
       "      <td>2019-03-07T15:38:52Z</td>\n",
       "    </tr>\n",
       "    <tr>\n",
       "      <th>3</th>\n",
       "      <td>Tony Ojeda</td>\n",
       "      <td>2019-01-18T18:28:33Z</td>\n",
       "    </tr>\n",
       "    <tr>\n",
       "      <th>4</th>\n",
       "      <td>Michal Monselise</td>\n",
       "      <td>2019-01-17T21:59:35Z</td>\n",
       "    </tr>\n",
       "    <tr>\n",
       "      <th>5</th>\n",
       "      <td>Michal Monselise</td>\n",
       "      <td>2019-01-17T06:33:16Z</td>\n",
       "    </tr>\n",
       "    <tr>\n",
       "      <th>6</th>\n",
       "      <td>Michal Monselise</td>\n",
       "      <td>2019-01-17T06:28:16Z</td>\n",
       "    </tr>\n",
       "    <tr>\n",
       "      <th>7</th>\n",
       "      <td>Michal Monselise</td>\n",
       "      <td>2019-01-17T06:24:01Z</td>\n",
       "    </tr>\n",
       "    <tr>\n",
       "      <th>8</th>\n",
       "      <td>Zhou Zhou</td>\n",
       "      <td>2019-01-16T23:20:01Z</td>\n",
       "    </tr>\n",
       "    <tr>\n",
       "      <th>9</th>\n",
       "      <td>Zhou Zhou</td>\n",
       "      <td>2019-01-16T22:24:40Z</td>\n",
       "    </tr>\n",
       "    <tr>\n",
       "      <th>10</th>\n",
       "      <td>Zhou Zhou</td>\n",
       "      <td>2019-01-16T22:24:35Z</td>\n",
       "    </tr>\n",
       "    <tr>\n",
       "      <th>11</th>\n",
       "      <td>Michal Monselise</td>\n",
       "      <td>2019-01-14T22:40:53Z</td>\n",
       "    </tr>\n",
       "    <tr>\n",
       "      <th>12</th>\n",
       "      <td>Michal Monselise</td>\n",
       "      <td>2019-01-11T20:01:48Z</td>\n",
       "    </tr>\n",
       "    <tr>\n",
       "      <th>13</th>\n",
       "      <td>Michal Monselise</td>\n",
       "      <td>2019-01-10T21:15:16Z</td>\n",
       "    </tr>\n",
       "    <tr>\n",
       "      <th>14</th>\n",
       "      <td>Michal Monselise</td>\n",
       "      <td>2019-01-10T21:11:31Z</td>\n",
       "    </tr>\n",
       "    <tr>\n",
       "      <th>15</th>\n",
       "      <td>Zhou Zhou</td>\n",
       "      <td>2019-01-08T20:22:14Z</td>\n",
       "    </tr>\n",
       "    <tr>\n",
       "      <th>16</th>\n",
       "      <td>Zhou Zhou</td>\n",
       "      <td>2019-01-08T20:22:09Z</td>\n",
       "    </tr>\n",
       "    <tr>\n",
       "      <th>17</th>\n",
       "      <td>Tony Ojeda</td>\n",
       "      <td>2019-01-07T20:24:29Z</td>\n",
       "    </tr>\n",
       "    <tr>\n",
       "      <th>18</th>\n",
       "      <td>Tony Ojeda</td>\n",
       "      <td>2019-01-07T20:20:17Z</td>\n",
       "    </tr>\n",
       "    <tr>\n",
       "      <th>19</th>\n",
       "      <td>Tony Ojeda</td>\n",
       "      <td>2019-01-07T17:49:55Z</td>\n",
       "    </tr>\n",
       "    <tr>\n",
       "      <th>20</th>\n",
       "      <td>Tony Ojeda</td>\n",
       "      <td>2019-01-07T17:47:26Z</td>\n",
       "    </tr>\n",
       "    <tr>\n",
       "      <th>21</th>\n",
       "      <td>Zhou Zhou</td>\n",
       "      <td>2019-01-07T16:32:06Z</td>\n",
       "    </tr>\n",
       "    <tr>\n",
       "      <th>22</th>\n",
       "      <td>Zhou Zhou</td>\n",
       "      <td>2019-01-07T16:17:21Z</td>\n",
       "    </tr>\n",
       "    <tr>\n",
       "      <th>23</th>\n",
       "      <td>Tony Ojeda</td>\n",
       "      <td>2019-01-07T15:15:49Z</td>\n",
       "    </tr>\n",
       "    <tr>\n",
       "      <th>24</th>\n",
       "      <td>Zhou Zhou</td>\n",
       "      <td>2019-01-07T05:11:44Z</td>\n",
       "    </tr>\n",
       "    <tr>\n",
       "      <th>25</th>\n",
       "      <td>Zhou Zhou</td>\n",
       "      <td>2019-01-06T20:04:06Z</td>\n",
       "    </tr>\n",
       "    <tr>\n",
       "      <th>26</th>\n",
       "      <td>Zhou Zhou</td>\n",
       "      <td>2019-01-05T17:05:30Z</td>\n",
       "    </tr>\n",
       "    <tr>\n",
       "      <th>27</th>\n",
       "      <td>Zhou Zhou</td>\n",
       "      <td>2019-01-05T17:05:18Z</td>\n",
       "    </tr>\n",
       "    <tr>\n",
       "      <th>28</th>\n",
       "      <td>Michal Monselise</td>\n",
       "      <td>2019-01-05T02:21:03Z</td>\n",
       "    </tr>\n",
       "    <tr>\n",
       "      <th>29</th>\n",
       "      <td>Michal Monselise</td>\n",
       "      <td>2019-01-05T02:20:54Z</td>\n",
       "    </tr>\n",
       "  </tbody>\n",
       "</table>\n",
       "</div>"
      ],
      "text/plain": [
       "    Committer's name                  Date\n",
       "0         Marc Pomar  2019-08-19T11:11:36Z\n",
       "1        ta-data-bcn  2019-03-07T15:49:16Z\n",
       "2        ta-data-bcn  2019-03-07T15:38:52Z\n",
       "3         Tony Ojeda  2019-01-18T18:28:33Z\n",
       "4   Michal Monselise  2019-01-17T21:59:35Z\n",
       "5   Michal Monselise  2019-01-17T06:33:16Z\n",
       "6   Michal Monselise  2019-01-17T06:28:16Z\n",
       "7   Michal Monselise  2019-01-17T06:24:01Z\n",
       "8          Zhou Zhou  2019-01-16T23:20:01Z\n",
       "9          Zhou Zhou  2019-01-16T22:24:40Z\n",
       "10         Zhou Zhou  2019-01-16T22:24:35Z\n",
       "11  Michal Monselise  2019-01-14T22:40:53Z\n",
       "12  Michal Monselise  2019-01-11T20:01:48Z\n",
       "13  Michal Monselise  2019-01-10T21:15:16Z\n",
       "14  Michal Monselise  2019-01-10T21:11:31Z\n",
       "15         Zhou Zhou  2019-01-08T20:22:14Z\n",
       "16         Zhou Zhou  2019-01-08T20:22:09Z\n",
       "17        Tony Ojeda  2019-01-07T20:24:29Z\n",
       "18        Tony Ojeda  2019-01-07T20:20:17Z\n",
       "19        Tony Ojeda  2019-01-07T17:49:55Z\n",
       "20        Tony Ojeda  2019-01-07T17:47:26Z\n",
       "21         Zhou Zhou  2019-01-07T16:32:06Z\n",
       "22         Zhou Zhou  2019-01-07T16:17:21Z\n",
       "23        Tony Ojeda  2019-01-07T15:15:49Z\n",
       "24         Zhou Zhou  2019-01-07T05:11:44Z\n",
       "25         Zhou Zhou  2019-01-06T20:04:06Z\n",
       "26         Zhou Zhou  2019-01-05T17:05:30Z\n",
       "27         Zhou Zhou  2019-01-05T17:05:18Z\n",
       "28  Michal Monselise  2019-01-05T02:21:03Z\n",
       "29  Michal Monselise  2019-01-05T02:20:54Z"
      ]
     },
     "execution_count": 142,
     "metadata": {},
     "output_type": "execute_result"
    }
   ],
   "source": [
    "#Creating a dataframe from the two arrays extracted from the json\n",
    "commits_df = pd.DataFrame({\"Committer's name\": committers, 'Date': dates})\n",
    "commits_df"
   ]
  },
  {
   "cell_type": "markdown",
   "metadata": {},
   "source": [
    "#### 2. Count how many commit objects are contained in the array."
   ]
  },
  {
   "cell_type": "code",
   "execution_count": 143,
   "metadata": {},
   "outputs": [
    {
     "data": {
      "text/plain": [
       "Committer's name    30\n",
       "Date                30\n",
       "dtype: int64"
      ]
     },
     "execution_count": 143,
     "metadata": {},
     "output_type": "execute_result"
    }
   ],
   "source": [
    "commits_df.count() #To count the number of commits in the dataframe, each commit has a uniqe Date"
   ]
  },
  {
   "cell_type": "markdown",
   "metadata": {},
   "source": [
    "## Challenge 3: Hidden Cold Joke\n",
    "\n",
    "Using Python, call Github API to find out the cold joke contained in the 24 secret files in the following repo:\n",
    "\n",
    "https://github.com/ironhack-datalabs/scavenger\n",
    "\n",
    "The filenames of the secret files contain .scavengerhunt and they are scattered in different directories of this repo. The secret files are named from .0001.scavengerhunt to .0024.scavengerhunt. They are scattered randomly throughout this repo. You need to search for these files by calling the Github API, not searching the local files on your computer.\n",
    "\n",
    "#### 1. Find the secret files."
   ]
  },
  {
   "cell_type": "code",
   "execution_count": 144,
   "metadata": {},
   "outputs": [],
   "source": [
    "url = 'https://api.github.com/repos/ironhack-datalabs/scavenger?'\n",
    "params = {'client_id': 'alieldinramadan', 'client_secret': 'd1367548e2b130e9bb99c0131b95a578b30c67fa'}\n",
    "ihack_response3 = requests.get(url, params=params)\n",
    "ihack_response_json3 = ihack_response3.json()"
   ]
  },
  {
   "cell_type": "code",
   "execution_count": 146,
   "metadata": {},
   "outputs": [
    {
     "name": "stdout",
     "output_type": "stream",
     "text": [
      "{\n",
      "        \"id\": 162375181,\n",
      "        \"node_id\": \"MDEwOlJlcG9zaXRvcnkxNjIzNzUxODE=\",\n",
      "        \"name\": \"scavenger\",\n",
      "        \"full_name\": \"ironhack-datalabs/scavenger\",\n",
      "        \"private\": false,\n",
      "        \"owner\": {\n",
      "                \"login\": \"ironhack-datalabs\",\n",
      "                \"id\": 44225188,\n",
      "                \"node_id\": \"MDEyOk9yZ2FuaXphdGlvbjQ0MjI1MTg4\",\n",
      "                \"avatar_url\": \"https://avatars2.githubusercontent.com/u/44225188?v=4\",\n",
      "                \"gravatar_id\": \"\",\n",
      "                \"url\": \"https://api.github.com/users/ironhack-datalabs\",\n",
      "                \"html_url\": \"https://github.com/ironhack-datalabs\",\n",
      "                \"followers_url\": \"https://api.github.com/users/ironhack-datalabs/followers\",\n",
      "                \"following_url\": \"https://api.github.com/users/ironhack-datalabs/following{/other_user}\",\n",
      "                \"gists_url\": \"https://api.github.com/users/ironhack-datalabs/gists{/gist_id}\",\n",
      "                \"starred_url\": \"https://api.github.com/users/ironhack-datalabs/starred{/owner}{/repo}\",\n",
      "                \"subscriptions_url\": \"https://api.github.com/users/ironhack-datalabs/subscriptions\",\n",
      "                \"organizations_url\": \"https://api.github.com/users/ironhack-datalabs/orgs\",\n",
      "                \"repos_url\": \"https://api.github.com/users/ironhack-datalabs/repos\",\n",
      "                \"events_url\": \"https://api.github.com/users/ironhack-datalabs/events{/privacy}\",\n",
      "                \"received_events_url\": \"https://api.github.com/users/ironhack-datalabs/received_events\",\n",
      "                \"type\": \"Organization\",\n",
      "                \"site_admin\": false\n",
      "        },\n",
      "        \"html_url\": \"https://github.com/ironhack-datalabs/scavenger\",\n",
      "        \"description\": null,\n",
      "        \"fork\": false,\n",
      "        \"url\": \"https://api.github.com/repos/ironhack-datalabs/scavenger\",\n",
      "        \"forks_url\": \"https://api.github.com/repos/ironhack-datalabs/scavenger/forks\",\n",
      "        \"keys_url\": \"https://api.github.com/repos/ironhack-datalabs/scavenger/keys{/key_id}\",\n",
      "        \"collaborators_url\": \"https://api.github.com/repos/ironhack-datalabs/scavenger/collaborators{/collaborator}\",\n",
      "        \"teams_url\": \"https://api.github.com/repos/ironhack-datalabs/scavenger/teams\",\n",
      "        \"hooks_url\": \"https://api.github.com/repos/ironhack-datalabs/scavenger/hooks\",\n",
      "        \"issue_events_url\": \"https://api.github.com/repos/ironhack-datalabs/scavenger/issues/events{/number}\",\n",
      "        \"events_url\": \"https://api.github.com/repos/ironhack-datalabs/scavenger/events\",\n",
      "        \"assignees_url\": \"https://api.github.com/repos/ironhack-datalabs/scavenger/assignees{/user}\",\n",
      "        \"branches_url\": \"https://api.github.com/repos/ironhack-datalabs/scavenger/branches{/branch}\",\n",
      "        \"tags_url\": \"https://api.github.com/repos/ironhack-datalabs/scavenger/tags\",\n",
      "        \"blobs_url\": \"https://api.github.com/repos/ironhack-datalabs/scavenger/git/blobs{/sha}\",\n",
      "        \"git_tags_url\": \"https://api.github.com/repos/ironhack-datalabs/scavenger/git/tags{/sha}\",\n",
      "        \"git_refs_url\": \"https://api.github.com/repos/ironhack-datalabs/scavenger/git/refs{/sha}\",\n",
      "        \"trees_url\": \"https://api.github.com/repos/ironhack-datalabs/scavenger/git/trees{/sha}\",\n",
      "        \"statuses_url\": \"https://api.github.com/repos/ironhack-datalabs/scavenger/statuses/{sha}\",\n",
      "        \"languages_url\": \"https://api.github.com/repos/ironhack-datalabs/scavenger/languages\",\n",
      "        \"stargazers_url\": \"https://api.github.com/repos/ironhack-datalabs/scavenger/stargazers\",\n",
      "        \"contributors_url\": \"https://api.github.com/repos/ironhack-datalabs/scavenger/contributors\",\n",
      "        \"subscribers_url\": \"https://api.github.com/repos/ironhack-datalabs/scavenger/subscribers\",\n",
      "        \"subscription_url\": \"https://api.github.com/repos/ironhack-datalabs/scavenger/subscription\",\n",
      "        \"commits_url\": \"https://api.github.com/repos/ironhack-datalabs/scavenger/commits{/sha}\",\n",
      "        \"git_commits_url\": \"https://api.github.com/repos/ironhack-datalabs/scavenger/git/commits{/sha}\",\n",
      "        \"comments_url\": \"https://api.github.com/repos/ironhack-datalabs/scavenger/comments{/number}\",\n",
      "        \"issue_comment_url\": \"https://api.github.com/repos/ironhack-datalabs/scavenger/issues/comments{/number}\",\n",
      "        \"contents_url\": \"https://api.github.com/repos/ironhack-datalabs/scavenger/contents/{+path}\",\n",
      "        \"compare_url\": \"https://api.github.com/repos/ironhack-datalabs/scavenger/compare/{base}...{head}\",\n",
      "        \"merges_url\": \"https://api.github.com/repos/ironhack-datalabs/scavenger/merges\",\n",
      "        \"archive_url\": \"https://api.github.com/repos/ironhack-datalabs/scavenger/{archive_format}{/ref}\",\n",
      "        \"downloads_url\": \"https://api.github.com/repos/ironhack-datalabs/scavenger/downloads\",\n",
      "        \"issues_url\": \"https://api.github.com/repos/ironhack-datalabs/scavenger/issues{/number}\",\n",
      "        \"pulls_url\": \"https://api.github.com/repos/ironhack-datalabs/scavenger/pulls{/number}\",\n",
      "        \"milestones_url\": \"https://api.github.com/repos/ironhack-datalabs/scavenger/milestones{/number}\",\n",
      "        \"notifications_url\": \"https://api.github.com/repos/ironhack-datalabs/scavenger/notifications{?since,all,participating}\",\n",
      "        \"labels_url\": \"https://api.github.com/repos/ironhack-datalabs/scavenger/labels{/name}\",\n",
      "        \"releases_url\": \"https://api.github.com/repos/ironhack-datalabs/scavenger/releases{/id}\",\n",
      "        \"deployments_url\": \"https://api.github.com/repos/ironhack-datalabs/scavenger/deployments\",\n",
      "        \"created_at\": \"2018-12-19T03:01:30Z\",\n",
      "        \"updated_at\": \"2018-12-19T03:05:09Z\",\n",
      "        \"pushed_at\": \"2018-12-19T03:05:07Z\",\n",
      "        \"git_url\": \"git://github.com/ironhack-datalabs/scavenger.git\",\n",
      "        \"ssh_url\": \"git@github.com:ironhack-datalabs/scavenger.git\",\n",
      "        \"clone_url\": \"https://github.com/ironhack-datalabs/scavenger.git\",\n",
      "        \"svn_url\": \"https://github.com/ironhack-datalabs/scavenger\",\n",
      "        \"homepage\": null,\n",
      "        \"size\": 3,\n",
      "        \"stargazers_count\": 0,\n",
      "        \"watchers_count\": 0,\n",
      "        \"language\": null,\n",
      "        \"has_issues\": true,\n",
      "        \"has_projects\": true,\n",
      "        \"has_downloads\": true,\n",
      "        \"has_wiki\": true,\n",
      "        \"has_pages\": false,\n",
      "        \"forks_count\": 4,\n",
      "        \"mirror_url\": null,\n",
      "        \"archived\": false,\n",
      "        \"disabled\": false,\n",
      "        \"open_issues_count\": 0,\n",
      "        \"license\": null,\n",
      "        \"forks\": 4,\n",
      "        \"open_issues\": 0,\n",
      "        \"watchers\": 0,\n",
      "        \"default_branch\": \"master\",\n",
      "        \"organization\": {\n",
      "                \"login\": \"ironhack-datalabs\",\n",
      "                \"id\": 44225188,\n",
      "                \"node_id\": \"MDEyOk9yZ2FuaXphdGlvbjQ0MjI1MTg4\",\n",
      "                \"avatar_url\": \"https://avatars2.githubusercontent.com/u/44225188?v=4\",\n",
      "                \"gravatar_id\": \"\",\n",
      "                \"url\": \"https://api.github.com/users/ironhack-datalabs\",\n",
      "                \"html_url\": \"https://github.com/ironhack-datalabs\",\n",
      "                \"followers_url\": \"https://api.github.com/users/ironhack-datalabs/followers\",\n",
      "                \"following_url\": \"https://api.github.com/users/ironhack-datalabs/following{/other_user}\",\n",
      "                \"gists_url\": \"https://api.github.com/users/ironhack-datalabs/gists{/gist_id}\",\n",
      "                \"starred_url\": \"https://api.github.com/users/ironhack-datalabs/starred{/owner}{/repo}\",\n",
      "                \"subscriptions_url\": \"https://api.github.com/users/ironhack-datalabs/subscriptions\",\n",
      "                \"organizations_url\": \"https://api.github.com/users/ironhack-datalabs/orgs\",\n",
      "                \"repos_url\": \"https://api.github.com/users/ironhack-datalabs/repos\",\n",
      "                \"events_url\": \"https://api.github.com/users/ironhack-datalabs/events{/privacy}\",\n",
      "                \"received_events_url\": \"https://api.github.com/users/ironhack-datalabs/received_events\",\n",
      "                \"type\": \"Organization\",\n",
      "                \"site_admin\": false\n",
      "        },\n",
      "        \"network_count\": 4,\n",
      "        \"subscribers_count\": 2\n",
      "}\n"
     ]
    }
   ],
   "source": [
    "print(json.dumps(ihack_response_json3, indent=8))"
   ]
  },
  {
   "cell_type": "code",
   "execution_count": null,
   "metadata": {},
   "outputs": [],
   "source": []
  },
  {
   "cell_type": "code",
   "execution_count": null,
   "metadata": {},
   "outputs": [],
   "source": [
    "# your code here"
   ]
  },
  {
   "cell_type": "markdown",
   "metadata": {},
   "source": [
    "#### 2.  Sort the filenames ascendingly."
   ]
  },
  {
   "cell_type": "code",
   "execution_count": null,
   "metadata": {},
   "outputs": [],
   "source": [
    "# your code here"
   ]
  },
  {
   "cell_type": "markdown",
   "metadata": {},
   "source": [
    "#### 3. Read the content of each secret files into an array of strings.\n",
    "Since the response is encoded, you will need to send the following information in the header of your request:\n",
    "````python\n",
    "headers = {'Accept': 'application/vnd.github.v3.raw'}\n",
    "````"
   ]
  },
  {
   "cell_type": "code",
   "execution_count": null,
   "metadata": {},
   "outputs": [],
   "source": [
    "# your code here"
   ]
  },
  {
   "cell_type": "markdown",
   "metadata": {},
   "source": [
    "#### 4. Concatenate the strings in the array separating each two with a whitespace."
   ]
  },
  {
   "cell_type": "code",
   "execution_count": null,
   "metadata": {},
   "outputs": [],
   "source": [
    "# your code here"
   ]
  },
  {
   "cell_type": "markdown",
   "metadata": {},
   "source": [
    "#### 5. Print out the joke."
   ]
  },
  {
   "cell_type": "code",
   "execution_count": null,
   "metadata": {},
   "outputs": [],
   "source": [
    "# your code here"
   ]
  }
 ],
 "metadata": {
  "kernelspec": {
   "display_name": "Python 3",
   "language": "python",
   "name": "python3"
  },
  "language_info": {
   "codemirror_mode": {
    "name": "ipython",
    "version": 3
   },
   "file_extension": ".py",
   "mimetype": "text/x-python",
   "name": "python",
   "nbconvert_exporter": "python",
   "pygments_lexer": "ipython3",
   "version": "3.7.3"
  }
 },
 "nbformat": 4,
 "nbformat_minor": 2
}
